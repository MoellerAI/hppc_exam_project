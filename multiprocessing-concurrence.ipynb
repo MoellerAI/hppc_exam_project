{
 "cells": [
  {
   "cell_type": "code",
   "metadata": {
    "deepnote_to_be_reexecuted": false,
    "source_hash": "730986ac",
    "execution_start": 1648024070943,
    "execution_millis": 1,
    "cell_id": "00001-5f7c8623-2e67-4fec-9320-d7811751a1ef",
    "deepnote_cell_type": "code",
    "deepnote_cell_height": 153
   },
   "source": "import numpy as np \nimport time\nn_cuts = 3\nn_settings = n_cuts**8\nNO_MORE_TASKS = n_settings+1",
   "execution_count": 1,
   "outputs": []
  },
  {
   "cell_type": "code",
   "metadata": {
    "deepnote_to_be_reexecuted": false,
    "source_hash": "3136ecf6",
    "execution_start": 1648024073510,
    "execution_millis": 15,
    "cell_id": "00002-c48e0fe2-92e7-4f7e-8c8b-7df2dbc336f9",
    "deepnote_cell_type": "code",
    "deepnote_cell_height": 837
   },
   "source": "class Data():\n    \"\"\"Process and load data\n    \"\"\"\n    def __init__(self, filename: str = 'mc_ggH_16_13TeV_Zee_EGAM1_calocells_16249871.csv') -> None:\n        \"\"\"setting initial data specific parameters.\n\n        Args:\n            filename (str, optional): data file to load. Defaults to 'mc_ggH_16_13TeV_Zee_EGAM1_calocells_16249871.csv'.\n        \"\"\"\n        self.data = self.read_data(filename)\n        self.nevents = self.data.shape[0]\n        self.name = [\"averageInteractionsPerCrossing\", \"p_Rhad\",\"p_Rhad1\", \"p_TRTTrackOccupancy\", \"p_topoetcone40\", \n                     \"p_eTileGap3Cluster\", \"p_phiModCalo\", \"p_etaModCalo\"]\n        self.NvtxReco = self.data[:,1]\n        self.p_nTracks = self.data[:,2]\n        self.p_truthType = self.data[:,10]\n\n        self.signal = self.p_truthType == 2\n\n        self.data = self.data[:, [0,3,4,5,6,7,8,9]]\n\n        self.means_sig = np.array([np.average(self.data[self.signal, i]) for i in range(8)])\n        self.means_bckg = np.array([np.average(self.data[~self.signal, i]) for i in range(8)])\n        self.flip = np.sign(self.means_bckg - self.means_sig)\n            \n        for i in range(8): \n            self.data[:, i] *= self.flip[i]\n            self.means_sig[i]  = self.means_sig[i] * self.flip[i]\n            self.means_bckg[i] = self.means_bckg[i] * self.flip[i]\n\n\n    \n    def read_data(self, filename = 'mc_ggH_16_13TeV_Zee_EGAM1_calocells_16249871.csv') -> np.array:\n        \"\"\"Read data file using numpy (fastest).\n\n        Args:\n            filename (str, optional):File to load. Defaults to 'mc_ggH_16_13TeV_Zee_EGAM1_calocells_16249871.csv'.\n\n        Returns:\n            np.array: Returns data file except counter column and header row.\n        \"\"\"\n        return np.loadtxt(filename, delimiter = ',', skiprows = 1, usecols=range(1,12))\n",
   "execution_count": 2,
   "outputs": []
  },
  {
   "cell_type": "code",
   "metadata": {
    "deepnote_to_be_reexecuted": false,
    "source_hash": "b3a3f51c",
    "execution_start": 1648024078656,
    "execution_millis": 26,
    "cell_id": "00003-bbbdcd83-1a83-4ba4-bcab-15900a8266fd",
    "deepnote_cell_type": "code",
    "deepnote_cell_height": 837
   },
   "source": "def master(nworker: int, ds: Data):\n    \"\"\"Master function code. Master needs to collect work from workers.\n\n    Args:\n        nworker (int): The number of workers.\n        ds (Data): Dataset as a Data class object.\n    \"\"\"\n    ranges = np.zeros([n_cuts, 8])\n    settings = list()\n    accuracy = list()\n\n    for j in range(n_cuts):\n        ranges[j] = ds.means_sig + j * (ds.means_bckg - ds.means_sig) / n_cuts\n\n    for k in range(n_settings):\n        div = 1\n        _set = np.zeros(8)\n        for i in range(8):\n            idx = int((k/div) % n_cuts)\n            _set[i] = ranges[idx][i]\n            div *= n_cuts\n        settings.append(_set)\n    \n    tstart = time.time()\n\n    for k in range(n_settings):\n        accuracy.append(task_function(settings[k], ds))\n    \n    tend = time.time()\n\n    idx_best = np.argmax(accuracy)\n    best_accuracy_score = accuracy[idx_best]\n    \n    print(\"Best accuracy obtained:\", best_accuracy_score, \"\\n\")\n    print(\"Final cuts: \\n\")\n    \n    for i in range(8):\n        print(ds.name[i], \" : \", settings[idx_best][i]*ds.flip[i], \"\\n\")\n    \n    print()\n    print(\"Number of settings:\", n_settings, \"\\n\")\n    print(\"Elapsed time:\", (tend - tstart), \"\\n\")\n    print(\"task time [mus]:\", (tend - tstart)/ n_settings, \"\\n\")",
   "execution_count": 3,
   "outputs": []
  },
  {
   "cell_type": "code",
   "metadata": {
    "deepnote_to_be_reexecuted": false,
    "source_hash": "ced28c52",
    "execution_start": 1648024082669,
    "execution_millis": 11,
    "cell_id": "00004-ac42641d-c891-45e9-8312-467c7cfbace4",
    "deepnote_cell_type": "code",
    "deepnote_cell_height": 279
   },
   "source": "def task_function(setting: np.array, ds: Data) -> float:\n    \"\"\"_summary_\n\n    Args:\n        setting (numpy array): _description_\n        ds (Data): _description_\n\n    Returns:\n        float: _description_\n    \"\"\"\n    pred = np.min(ds.data < setting, axis=1)\n    return np.sum(pred == ds.signal) / ds.nevents",
   "execution_count": 4,
   "outputs": []
  },
  {
   "cell_type": "code",
   "metadata": {
    "deepnote_to_be_reexecuted": false,
    "source_hash": "9529ab95",
    "execution_start": 1648024087311,
    "execution_millis": 2,
    "cell_id": "00005-bcabbe8f-bc36-4488-9bdb-031d5eb62d14",
    "deepnote_cell_type": "code",
    "deepnote_cell_height": 207
   },
   "source": "def main() -> None:\n    nrank = 1\n    rank = 0\n\n    ds = Data()\n    if rank == 0:\n        master(nrank-1, ds)\n    ",
   "execution_count": 5,
   "outputs": []
  },
  {
   "cell_type": "code",
   "metadata": {
    "deepnote_to_be_reexecuted": false,
    "source_hash": "286a4539",
    "execution_start": 1648024089221,
    "execution_millis": 31724,
    "cell_id": "00006-4dff69b9-3cc7-4ace-b571-53a608d22842",
    "deepnote_cell_type": "code",
    "deepnote_cell_height": 623.765625
   },
   "source": "main()",
   "execution_count": 6,
   "outputs": [
    {
     "name": "stdout",
     "text": "Best accuracy obtained: 0.7365760732537989 \n\nFinal cuts: \n\naverageInteractionsPerCrossing  :  41.37656598765495 \n\np_Rhad  :  0.05993003622620082 \n\np_Rhad1  :  0.0377865347088777 \n\np_TRTTrackOccupancy  :  0.4684328988784968 \n\np_topoetcone40  :  4.9602659991986 \n\np_eTileGap3Cluster  :  0.3918736048431675 \n\np_phiModCalo  :  1.5157768399878342e-05 \n\np_etaModCalo  :  0.012525917018684045 \n\n\nNumber of settings: 6561 \n\nElapsed time: 20.514394760131836 \n\ntask time [mus]: 0.003126717689396713 \n\n",
     "output_type": "stream"
    }
   ]
  },
  {
   "cell_type": "code",
   "metadata": {
    "cell_id": "00007-bd73fc29-bdb4-407c-a772-f2b4358a511a",
    "deepnote_cell_type": "code",
    "deepnote_cell_height": 66
   },
   "source": "",
   "execution_count": null,
   "outputs": []
  },
  {
   "cell_type": "markdown",
   "source": "<a style='text-decoration:none;line-height:16px;display:flex;color:#5B5B62;padding:10px;justify-content:end;' href='https://deepnote.com?utm_source=created-in-deepnote-cell&projectId=5ca00859-511e-43ae-9c6d-62f1027902fc' target=\"_blank\">\n<img alt='Created in deepnote.com' style='display:inline;max-height:16px;margin:0px;margin-right:7.5px;' src='data:image/svg+xml;base64,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' > </img>\nCreated in <span style='font-weight:600;margin-left:4px;'>Deepnote</span></a>",
   "metadata": {
    "tags": [],
    "created_in_deepnote_cell": true,
    "deepnote_cell_type": "markdown"
   }
  }
 ],
 "nbformat": 4,
 "nbformat_minor": 4,
 "metadata": {
  "kernelspec": {
   "display_name": "Python 3",
   "language": "python",
   "name": "python3"
  },
  "language_info": {
   "codemirror_mode": {
    "name": "ipython",
    "version": 3
   },
   "file_extension": ".py",
   "mimetype": "text/x-python",
   "name": "python",
   "nbconvert_exporter": "python",
   "pygments_lexer": "ipython3",
   "version": "3.8.3"
  },
  "deepnote_notebook_id": "3681ff85-86b3-4982-be1c-1496633dab44",
  "deepnote": {},
  "deepnote_execution_queue": []
 }
}