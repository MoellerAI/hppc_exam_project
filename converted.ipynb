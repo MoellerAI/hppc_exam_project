{
 "cells": [
  {
   "cell_type": "code",
   "execution_count": 28,
   "metadata": {},
   "outputs": [],
   "source": [
    "import numpy as np "
   ]
  },
  {
   "cell_type": "code",
   "execution_count": 29,
   "metadata": {},
   "outputs": [],
   "source": [
    "class Data():\n",
    "    \"\"\"Process and load data\n",
    "    \"\"\"\n",
    "    def __init__(self, filename: str = 'mc_ggH_16_13TeV_Zee_EGAM1_calocells_16249871.csv') -> None:\n",
    "        \"\"\"setting initial data specific parameters.\n",
    "\n",
    "        Args:\n",
    "            filename (str, optional): data file to load. Defaults to 'mc_ggH_16_13TeV_Zee_EGAM1_calocells_16249871.csv'.\n",
    "        \"\"\"\n",
    "        self.data = self.read_data(filename)\n",
    "        self.nevents = self.data.shape[0]\n",
    "        self.name = [\"averageInteractionsPerCrossing\", \"p_Rhad\",\"p_Rhad1\", \"p_TRTTrackOccupancy\", \"p_topoetcone40\", \n",
    "                     \"p_eTileGap3Cluster\", \"p_phiModCalo\", \"p_etaModCalo\"]\n",
    "        self.NvtxReco = self.data[:,1]\n",
    "        self.p_nTracks = self.data[:,2]\n",
    "        self.p_truthType = self.data[:,10]\n",
    "\n",
    "        self.signal = self.p_truthType == 2\n",
    "\n",
    "        self.data = self.data[:, [0,3,4,5,6,7,8,9]]\n",
    "\n",
    "        self.means_sig = np.array([np.average(self.data[self.signal, i]) for i in range(8)])\n",
    "        self.means_bckg = np.array([np.average(self.data[~self.signal, i]) for i in range(8)])\n",
    "        self.flip = np.sign(self.means_bckg - self.means_sig)\n",
    "            \n",
    "        for i in range(8): \n",
    "            self.data[:, i] *= self.flip[i]\n",
    "            self.means_sig[i]  = self.means_sig[i] * self.flip[i]\n",
    "            self.means_bckg[i] = self.means_bckg[i] * self.flip[i]\n",
    "\n",
    "\n",
    "    \n",
    "    def read_data(self, filename = 'mc_ggH_16_13TeV_Zee_EGAM1_calocells_16249871.csv'):\n",
    "        return np.loadtxt(filename, delimiter = ',', skiprows = 1, usecols=range(1,12))\n"
   ]
  },
  {
   "cell_type": "code",
   "execution_count": 30,
   "metadata": {},
   "outputs": [],
   "source": [
    "data = Data()"
   ]
  },
  {
   "cell_type": "code",
   "execution_count": 33,
   "metadata": {},
   "outputs": [
    {
     "data": {
      "text/plain": [
       "array([ 3.89248969e+01,  6.77550670e-03,  5.07774657e-03,  4.18748975e-01,\n",
       "        1.95529984e+00, -8.67498142e-01, -1.10297362e-05,  1.24595979e-02])"
      ]
     },
     "execution_count": 33,
     "metadata": {},
     "output_type": "execute_result"
    }
   ],
   "source": [
    "data.means_sig"
   ]
  },
  {
   "cell_type": "code",
   "execution_count": null,
   "metadata": {},
   "outputs": [],
   "source": [
    "# ikke færdig overhovedet...\n",
    "def master(nworker: int, data: np.array):\n",
    "    ranges = np.zeros([n_cuts, 8])\n",
    "    \n",
    "    # loop over different event channels and set up cuts\n",
    "    for i in range(8):\n",
    "        for j in range n_cuts:\n",
    "            ranges[j][i] = data.means_sig[i] + j * (data.means_bckg[i] - data.means_sig[i]) / n_cuts\n",
    "    \n",
    "    print(\"Best accuracy obtained:\", best_accuracy_score, \"\\n\")\n",
    "    print(\"Final cuts: \\n\")\n",
    "    \n",
    "    \n",
    "    print()\n",
    "    print(\"Number of settings:\", n_settings, \"\\n\")\n",
    "    print(\"Elapsed time:\", (tend - tstart), \"\\n\")\n",
    "    print(\"task time [mus]:\", (tend - tstart)/ n_settings, \"\\n\")"
   ]
  },
  {
   "cell_type": "code",
   "execution_count": null,
   "metadata": {},
   "outputs": [],
   "source": [
    "def task_function(setting: list, data: Data) -> float:\n",
    "    pred = np.min(data.data < setting, axis=0)\n",
    "    return np.sum(pred == data.signal) / len(data.data)"
   ]
  }
 ],
 "metadata": {
  "kernelspec": {
   "display_name": "Python 3",
   "language": "python",
   "name": "python3"
  },
  "language_info": {
   "codemirror_mode": {
    "name": "ipython",
    "version": 3
   },
   "file_extension": ".py",
   "mimetype": "text/x-python",
   "name": "python",
   "nbconvert_exporter": "python",
   "pygments_lexer": "ipython3",
   "version": "3.8.8"
  }
 },
 "nbformat": 4,
 "nbformat_minor": 4
}
