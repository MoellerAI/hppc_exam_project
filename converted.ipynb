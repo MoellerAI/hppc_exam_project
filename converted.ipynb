{
 "cells": [
  {
   "cell_type": "code",
   "execution_count": 1,
   "metadata": {},
   "outputs": [],
   "source": [
    "import numpy as np"
   ]
  },
  {
   "cell_type": "code",
   "execution_count": null,
   "metadata": {},
   "outputs": [],
   "source": [
    "n_cuts = 3\n",
    "n_settings = (long) pow(n_cuts,8)\n",
    "NO_MORE_TASKS = n_settings+1"
   ]
  },
  {
   "cell_type": "code",
   "execution_count": null,
   "metadata": {},
   "outputs": [],
   "source": [
    "class Data():\n",
    "    def __init__(self, filename: str) -> None:\n",
    "        self.data = read_data(filename)\n",
    "        self.name = [\"averageInteractionsPerCrossing\", \"p_Rhad\",\"p_Rhad1\", \"p_TRTTrackOccupancy\", \"p_topoetcone40\", \n",
    "                     \"p_eTileGap3Cluster\", \"p_phiModCalo\", \"p_etaModCalo\"]\n",
    "        self.NvtxReco = None\n",
    "        self.p_nTracks = None\n",
    "        self.p_truthType = None\n",
    "\n",
    "        self.signal = None\n",
    "\n",
    "        self.means_sig = None\n",
    "        self.means_bckg = None\n",
    "        self.flip = None\n",
    "    \n",
    "    def read_data(self, )"
   ]
  },
  {
   "cell_type": "code",
   "execution_count": null,
   "metadata": {},
   "outputs": [],
   "source": [
    "def read_data(filename: str) -> np.array:\n",
    "    data = np.loadtxt(\"sample.csv\")    "
   ]
  },
  {
   "cell_type": "code",
   "execution_count": null,
   "metadata": {},
   "outputs": [],
   "source": [
    "def master(nworker: int, data: np.array):\n",
    "    ranges = np.zeros([n_cuts, 8])\n",
    "    \n",
    "    # loop over different event channels and set up cuts\n",
    "    for i in range(8):\n",
    "        for j in range n_cuts:\n",
    "            ranges[j][i] = data.means_sig[i] + j * (data.means_bckg[i] - data.means_sig[i]) / n_cuts;\n",
    "    \n",
    "    print(\"Best accuracy obtained:\", best_accuracy_score, \"\\n\")\n",
    "    print(\"Final cuts: \\n\")\n",
    "    \n",
    "    \n",
    "    print()\n",
    "    print(\"Number of settings:\", n_settings, \"\\n\")\n",
    "    print(\"Elapsed time:\", (tend - tstart), \"\\n\")\n",
    "    print(\"task time [mus]:\", (tend - tstart)/ n_settings, \"\\n\")"
   ]
  },
  {
   "cell_type": "code",
   "execution_count": 10,
   "metadata": {},
   "outputs": [
    {
     "data": {
      "text/plain": [
       "array([[2, 2, 3],\n",
       "       [1, 2, 3]])"
      ]
     },
     "execution_count": 10,
     "metadata": {},
     "output_type": "execute_result"
    }
   ],
   "source": [
    "test = np.array([[1,2,3], [1,2,3]])\n",
    "test[0][0] = 2\n",
    "test"
   ]
  },
  {
   "cell_type": "code",
   "execution_count": null,
   "metadata": {},
   "outputs": [],
   "source": []
  }
 ],
 "metadata": {
  "kernelspec": {
   "display_name": "Python 3",
   "language": "python",
   "name": "python3"
  },
  "language_info": {
   "codemirror_mode": {
    "name": "ipython",
    "version": 3
   },
   "file_extension": ".py",
   "mimetype": "text/x-python",
   "name": "python",
   "nbconvert_exporter": "python",
   "pygments_lexer": "ipython3",
   "version": "3.8.3"
  }
 },
 "nbformat": 4,
 "nbformat_minor": 4
}
