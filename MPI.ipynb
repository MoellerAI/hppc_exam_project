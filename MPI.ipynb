{
 "cells": [
  {
   "cell_type": "code",
   "source": "!pip install mpi4py==3.1.3",
   "metadata": {
    "cell_id": "7c7fb7a114064962a9866f49b5710b39",
    "tags": [],
    "deepnote_to_be_reexecuted": false,
    "source_hash": "a5a37ea5",
    "execution_start": 1648026297135,
    "execution_millis": 15867,
    "deepnote_cell_type": "code",
    "deepnote_cell_height": 701
   },
   "outputs": [
    {
     "name": "stdout",
     "text": "Collecting mpi4py==3.1.3\n  Using cached mpi4py-3.1.3.tar.gz (2.5 MB)\n  Installing build dependencies ... \u001b[?25ldone\n\u001b[?25h  Getting requirements to build wheel ... \u001b[?25ldone\n\u001b[?25h  Preparing metadata (pyproject.toml) ... \u001b[?25ldone\n\u001b[?25hBuilding wheels for collected packages: mpi4py\n  Building wheel for mpi4py (pyproject.toml) ... \u001b[?25lerror\n  \u001b[1;31merror\u001b[0m: \u001b[1msubprocess-exited-with-error\u001b[0m\n  \n  \u001b[31m×\u001b[0m \u001b[32mBuilding wheel for mpi4py \u001b[0m\u001b[1;32m(\u001b[0m\u001b[32mpyproject.toml\u001b[0m\u001b[1;32m)\u001b[0m did not run successfully.\n  \u001b[31m│\u001b[0m exit code: \u001b[1;36m1\u001b[0m\n  \u001b[31m╰─>\u001b[0m \u001b[31m[148 lines of output]\u001b[0m\n  \u001b[31m   \u001b[0m running bdist_wheel\n  \u001b[31m   \u001b[0m running build\n  \u001b[31m   \u001b[0m running build_src\n  \u001b[31m   \u001b[0m running build_py\n  \u001b[31m   \u001b[0m creating build\n  \u001b[31m   \u001b[0m creating build/lib.linux-x86_64-3.7\n  \u001b[31m   \u001b[0m creating build/lib.linux-x86_64-3.7/mpi4py\n  \u001b[31m   \u001b[0m copying src/mpi4py/__init__.py -> build/lib.linux-x86_64-3.7/mpi4py\n  \u001b[31m   \u001b[0m copying src/mpi4py/__main__.py -> build/lib.linux-x86_64-3.7/mpi4py\n  \u001b[31m   \u001b[0m copying src/mpi4py/bench.py -> build/lib.linux-x86_64-3.7/mpi4py\n  \u001b[31m   \u001b[0m copying src/mpi4py/run.py -> build/lib.linux-x86_64-3.7/mpi4py\n  \u001b[31m   \u001b[0m creating build/lib.linux-x86_64-3.7/mpi4py/futures\n  \u001b[31m   \u001b[0m copying src/mpi4py/futures/__init__.py -> build/lib.linux-x86_64-3.7/mpi4py/futures\n  \u001b[31m   \u001b[0m copying src/mpi4py/futures/__main__.py -> build/lib.linux-x86_64-3.7/mpi4py/futures\n  \u001b[31m   \u001b[0m copying src/mpi4py/futures/_base.py -> build/lib.linux-x86_64-3.7/mpi4py/futures\n  \u001b[31m   \u001b[0m copying src/mpi4py/futures/_core.py -> build/lib.linux-x86_64-3.7/mpi4py/futures\n  \u001b[31m   \u001b[0m copying src/mpi4py/futures/_lib.py -> build/lib.linux-x86_64-3.7/mpi4py/futures\n  \u001b[31m   \u001b[0m copying src/mpi4py/futures/aplus.py -> build/lib.linux-x86_64-3.7/mpi4py/futures\n  \u001b[31m   \u001b[0m copying src/mpi4py/futures/pool.py -> build/lib.linux-x86_64-3.7/mpi4py/futures\n  \u001b[31m   \u001b[0m copying src/mpi4py/futures/server.py -> build/lib.linux-x86_64-3.7/mpi4py/futures\n  \u001b[31m   \u001b[0m creating build/lib.linux-x86_64-3.7/mpi4py/util\n  \u001b[31m   \u001b[0m copying src/mpi4py/util/__init__.py -> build/lib.linux-x86_64-3.7/mpi4py/util\n  \u001b[31m   \u001b[0m copying src/mpi4py/util/dtlib.py -> build/lib.linux-x86_64-3.7/mpi4py/util\n  \u001b[31m   \u001b[0m copying src/mpi4py/util/pkl5.py -> build/lib.linux-x86_64-3.7/mpi4py/util\n  \u001b[31m   \u001b[0m copying src/mpi4py/py.typed -> build/lib.linux-x86_64-3.7/mpi4py\n  \u001b[31m   \u001b[0m copying src/mpi4py/MPI.pyi -> build/lib.linux-x86_64-3.7/mpi4py\n  \u001b[31m   \u001b[0m copying src/mpi4py/__init__.pyi -> build/lib.linux-x86_64-3.7/mpi4py\n  \u001b[31m   \u001b[0m copying src/mpi4py/__main__.pyi -> build/lib.linux-x86_64-3.7/mpi4py\n  \u001b[31m   \u001b[0m copying src/mpi4py/bench.pyi -> build/lib.linux-x86_64-3.7/mpi4py\n  \u001b[31m   \u001b[0m copying src/mpi4py/dl.pyi -> build/lib.linux-x86_64-3.7/mpi4py\n  \u001b[31m   \u001b[0m copying src/mpi4py/run.pyi -> build/lib.linux-x86_64-3.7/mpi4py\n  \u001b[31m   \u001b[0m copying src/mpi4py/MPI.pxd -> build/lib.linux-x86_64-3.7/mpi4py\n  \u001b[31m   \u001b[0m copying src/mpi4py/__init__.pxd -> build/lib.linux-x86_64-3.7/mpi4py\n  \u001b[31m   \u001b[0m copying src/mpi4py/libmpi.pxd -> build/lib.linux-x86_64-3.7/mpi4py\n  \u001b[31m   \u001b[0m creating build/lib.linux-x86_64-3.7/mpi4py/include\n  \u001b[31m   \u001b[0m creating build/lib.linux-x86_64-3.7/mpi4py/include/mpi4py\n  \u001b[31m   \u001b[0m copying src/mpi4py/include/mpi4py/mpi4py.MPI.h -> build/lib.linux-x86_64-3.7/mpi4py/include/mpi4py\n  \u001b[31m   \u001b[0m copying src/mpi4py/include/mpi4py/mpi4py.MPI_api.h -> build/lib.linux-x86_64-3.7/mpi4py/include/mpi4py\n  \u001b[31m   \u001b[0m copying src/mpi4py/include/mpi4py/mpi4py.h -> build/lib.linux-x86_64-3.7/mpi4py/include/mpi4py\n  \u001b[31m   \u001b[0m copying src/mpi4py/include/mpi4py/mpi4py.i -> build/lib.linux-x86_64-3.7/mpi4py/include/mpi4py\n  \u001b[31m   \u001b[0m copying src/mpi4py/include/mpi4py/mpi.pxi -> build/lib.linux-x86_64-3.7/mpi4py/include/mpi4py\n  \u001b[31m   \u001b[0m copying src/mpi4py/futures/__init__.pyi -> build/lib.linux-x86_64-3.7/mpi4py/futures\n  \u001b[31m   \u001b[0m copying src/mpi4py/futures/__main__.pyi -> build/lib.linux-x86_64-3.7/mpi4py/futures\n  \u001b[31m   \u001b[0m copying src/mpi4py/futures/_core.pyi -> build/lib.linux-x86_64-3.7/mpi4py/futures\n  \u001b[31m   \u001b[0m copying src/mpi4py/futures/_lib.pyi -> build/lib.linux-x86_64-3.7/mpi4py/futures\n  \u001b[31m   \u001b[0m copying src/mpi4py/futures/aplus.pyi -> build/lib.linux-x86_64-3.7/mpi4py/futures\n  \u001b[31m   \u001b[0m copying src/mpi4py/futures/pool.pyi -> build/lib.linux-x86_64-3.7/mpi4py/futures\n  \u001b[31m   \u001b[0m copying src/mpi4py/futures/server.pyi -> build/lib.linux-x86_64-3.7/mpi4py/futures\n  \u001b[31m   \u001b[0m copying src/mpi4py/util/__init__.pyi -> build/lib.linux-x86_64-3.7/mpi4py/util\n  \u001b[31m   \u001b[0m copying src/mpi4py/util/dtlib.pyi -> build/lib.linux-x86_64-3.7/mpi4py/util\n  \u001b[31m   \u001b[0m copying src/mpi4py/util/pkl5.pyi -> build/lib.linux-x86_64-3.7/mpi4py/util\n  \u001b[31m   \u001b[0m running build_clib\n  \u001b[31m   \u001b[0m MPI configuration: [mpi] from 'mpi.cfg'\n  \u001b[31m   \u001b[0m checking for library 'lmpe' ...\n  \u001b[31m   \u001b[0m gcc -pthread -Wno-unused-result -Wsign-compare -DNDEBUG -g -fwrapv -O3 -Wall -fPIC -c _configtest.c -o _configtest.o\n  \u001b[31m   \u001b[0m gcc -pthread _configtest.o -llmpe -o _configtest\n  \u001b[31m   \u001b[0m /usr/bin/ld: cannot find -llmpe\n  \u001b[31m   \u001b[0m collect2: error: ld returned 1 exit status\n  \u001b[31m   \u001b[0m failure.\n  \u001b[31m   \u001b[0m removing: _configtest.c _configtest.o\n  \u001b[31m   \u001b[0m building 'mpe' dylib library\n  \u001b[31m   \u001b[0m creating build/temp.linux-x86_64-3.7\n  \u001b[31m   \u001b[0m creating build/temp.linux-x86_64-3.7/src\n  \u001b[31m   \u001b[0m creating build/temp.linux-x86_64-3.7/src/lib-pmpi\n  \u001b[31m   \u001b[0m gcc -pthread -Wno-unused-result -Wsign-compare -DNDEBUG -g -fwrapv -O3 -Wall -fPIC -c src/lib-pmpi/mpe.c -o build/temp.linux-x86_64-3.7/src/lib-pmpi/mpe.o\n  \u001b[31m   \u001b[0m creating build/lib.linux-x86_64-3.7/mpi4py/lib-pmpi\n  \u001b[31m   \u001b[0m gcc -pthread -shared -Wl,--strip-all -Wl,--no-as-needed build/temp.linux-x86_64-3.7/src/lib-pmpi/mpe.o -o build/lib.linux-x86_64-3.7/mpi4py/lib-pmpi/libmpe.so\n  \u001b[31m   \u001b[0m checking for library 'vt-mpi' ...\n  \u001b[31m   \u001b[0m gcc -pthread -Wno-unused-result -Wsign-compare -DNDEBUG -g -fwrapv -O3 -Wall -fPIC -c _configtest.c -o _configtest.o\n  \u001b[31m   \u001b[0m gcc -pthread _configtest.o -lvt-mpi -o _configtest\n  \u001b[31m   \u001b[0m /usr/bin/ld: cannot find -lvt-mpi\n  \u001b[31m   \u001b[0m collect2: error: ld returned 1 exit status\n  \u001b[31m   \u001b[0m failure.\n  \u001b[31m   \u001b[0m removing: _configtest.c _configtest.o\n  \u001b[31m   \u001b[0m checking for library 'vt.mpi' ...\n  \u001b[31m   \u001b[0m gcc -pthread -Wno-unused-result -Wsign-compare -DNDEBUG -g -fwrapv -O3 -Wall -fPIC -c _configtest.c -o _configtest.o\n  \u001b[31m   \u001b[0m gcc -pthread _configtest.o -lvt.mpi -o _configtest\n  \u001b[31m   \u001b[0m /usr/bin/ld: cannot find -lvt.mpi\n  \u001b[31m   \u001b[0m collect2: error: ld returned 1 exit status\n  \u001b[31m   \u001b[0m failure.\n  \u001b[31m   \u001b[0m removing: _configtest.c _configtest.o\n  \u001b[31m   \u001b[0m building 'vt' dylib library\n  \u001b[31m   \u001b[0m gcc -pthread -Wno-unused-result -Wsign-compare -DNDEBUG -g -fwrapv -O3 -Wall -fPIC -c src/lib-pmpi/vt.c -o build/temp.linux-x86_64-3.7/src/lib-pmpi/vt.o\n  \u001b[31m   \u001b[0m gcc -pthread -shared -Wl,--strip-all -Wl,--no-as-needed build/temp.linux-x86_64-3.7/src/lib-pmpi/vt.o -o build/lib.linux-x86_64-3.7/mpi4py/lib-pmpi/libvt.so\n  \u001b[31m   \u001b[0m checking for library 'vt-mpi' ...\n  \u001b[31m   \u001b[0m gcc -pthread -Wno-unused-result -Wsign-compare -DNDEBUG -g -fwrapv -O3 -Wall -fPIC -c _configtest.c -o _configtest.o\n  \u001b[31m   \u001b[0m gcc -pthread _configtest.o -lvt-mpi -o _configtest\n  \u001b[31m   \u001b[0m /usr/bin/ld: cannot find -lvt-mpi\n  \u001b[31m   \u001b[0m collect2: error: ld returned 1 exit status\n  \u001b[31m   \u001b[0m failure.\n  \u001b[31m   \u001b[0m removing: _configtest.c _configtest.o\n  \u001b[31m   \u001b[0m checking for library 'vt.mpi' ...\n  \u001b[31m   \u001b[0m gcc -pthread -Wno-unused-result -Wsign-compare -DNDEBUG -g -fwrapv -O3 -Wall -fPIC -c _configtest.c -o _configtest.o\n  \u001b[31m   \u001b[0m gcc -pthread _configtest.o -lvt.mpi -o _configtest\n  \u001b[31m   \u001b[0m /usr/bin/ld: cannot find -lvt.mpi\n  \u001b[31m   \u001b[0m collect2: error: ld returned 1 exit status\n  \u001b[31m   \u001b[0m failure.\n  \u001b[31m   \u001b[0m removing: _configtest.c _configtest.o\n  \u001b[31m   \u001b[0m building 'vt-mpi' dylib library\n  \u001b[31m   \u001b[0m gcc -pthread -Wno-unused-result -Wsign-compare -DNDEBUG -g -fwrapv -O3 -Wall -fPIC -c src/lib-pmpi/vt-mpi.c -o build/temp.linux-x86_64-3.7/src/lib-pmpi/vt-mpi.o\n  \u001b[31m   \u001b[0m gcc -pthread -shared -Wl,--strip-all -Wl,--no-as-needed build/temp.linux-x86_64-3.7/src/lib-pmpi/vt-mpi.o -o build/lib.linux-x86_64-3.7/mpi4py/lib-pmpi/libvt-mpi.so\n  \u001b[31m   \u001b[0m checking for library 'vt-hyb' ...\n  \u001b[31m   \u001b[0m gcc -pthread -Wno-unused-result -Wsign-compare -DNDEBUG -g -fwrapv -O3 -Wall -fPIC -c _configtest.c -o _configtest.o\n  \u001b[31m   \u001b[0m gcc -pthread _configtest.o -lvt-hyb -o _configtest\n  \u001b[31m   \u001b[0m /usr/bin/ld: cannot find -lvt-hyb\n  \u001b[31m   \u001b[0m collect2: error: ld returned 1 exit status\n  \u001b[31m   \u001b[0m failure.\n  \u001b[31m   \u001b[0m removing: _configtest.c _configtest.o\n  \u001b[31m   \u001b[0m checking for library 'vt.ompi' ...\n  \u001b[31m   \u001b[0m gcc -pthread -Wno-unused-result -Wsign-compare -DNDEBUG -g -fwrapv -O3 -Wall -fPIC -c _configtest.c -o _configtest.o\n  \u001b[31m   \u001b[0m gcc -pthread _configtest.o -lvt.ompi -o _configtest\n  \u001b[31m   \u001b[0m /usr/bin/ld: cannot find -lvt.ompi\n  \u001b[31m   \u001b[0m collect2: error: ld returned 1 exit status\n  \u001b[31m   \u001b[0m failure.\n  \u001b[31m   \u001b[0m removing: _configtest.c _configtest.o\n  \u001b[31m   \u001b[0m building 'vt-hyb' dylib library\n  \u001b[31m   \u001b[0m gcc -pthread -Wno-unused-result -Wsign-compare -DNDEBUG -g -fwrapv -O3 -Wall -fPIC -c src/lib-pmpi/vt-hyb.c -o build/temp.linux-x86_64-3.7/src/lib-pmpi/vt-hyb.o\n  \u001b[31m   \u001b[0m gcc -pthread -shared -Wl,--strip-all -Wl,--no-as-needed build/temp.linux-x86_64-3.7/src/lib-pmpi/vt-hyb.o -o build/lib.linux-x86_64-3.7/mpi4py/lib-pmpi/libvt-hyb.so\n  \u001b[31m   \u001b[0m running build_ext\n  \u001b[31m   \u001b[0m MPI configuration: [mpi] from 'mpi.cfg'\n  \u001b[31m   \u001b[0m checking for dlopen() availability ...\n  \u001b[31m   \u001b[0m checking for header 'dlfcn.h' ...\n  \u001b[31m   \u001b[0m gcc -pthread -Wno-unused-result -Wsign-compare -DNDEBUG -g -fwrapv -O3 -Wall -fPIC -I/usr/local/include/python3.7m -c _configtest.c -o _configtest.o\n  \u001b[31m   \u001b[0m success!\n  \u001b[31m   \u001b[0m removing: _configtest.c _configtest.o\n  \u001b[31m   \u001b[0m success!\n  \u001b[31m   \u001b[0m checking for library 'dl' ...\n  \u001b[31m   \u001b[0m gcc -pthread -Wno-unused-result -Wsign-compare -DNDEBUG -g -fwrapv -O3 -Wall -fPIC -I/usr/local/include/python3.7m -c _configtest.c -o _configtest.o\n  \u001b[31m   \u001b[0m gcc -pthread _configtest.o -L/usr/local/lib -Lbuild/temp.linux-x86_64-3.7 -Wl,--enable-new-dtags,-R/usr/local/lib -ldl -o _configtest\n  \u001b[31m   \u001b[0m success!\n  \u001b[31m   \u001b[0m removing: _configtest.c _configtest.o _configtest\n  \u001b[31m   \u001b[0m checking for function 'dlopen' ...\n  \u001b[31m   \u001b[0m gcc -pthread -Wno-unused-result -Wsign-compare -DNDEBUG -g -fwrapv -O3 -Wall -fPIC -I/usr/local/include/python3.7m -c _configtest.c -o _configtest.o\n  \u001b[31m   \u001b[0m gcc -pthread _configtest.o -L/usr/local/lib -Lbuild/temp.linux-x86_64-3.7 -Wl,--enable-new-dtags,-R/usr/local/lib -ldl -o _configtest\n  \u001b[31m   \u001b[0m success!\n  \u001b[31m   \u001b[0m removing: _configtest.c _configtest.o _configtest\n  \u001b[31m   \u001b[0m building 'mpi4py.dl' extension\n  \u001b[31m   \u001b[0m gcc -pthread -Wno-unused-result -Wsign-compare -DNDEBUG -g -fwrapv -O3 -Wall -fPIC -DHAVE_DLFCN_H=1 -DHAVE_DLOPEN=1 -I/usr/local/include/python3.7m -c src/dynload.c -o build/temp.linux-x86_64-3.7/src/dynload.o\n  \u001b[31m   \u001b[0m gcc -pthread -shared -Wl,--strip-all build/temp.linux-x86_64-3.7/src/dynload.o -L/usr/local/lib -Lbuild/temp.linux-x86_64-3.7 -Wl,--enable-new-dtags,-R/usr/local/lib -ldl -o build/lib.linux-x86_64-3.7/mpi4py/dl.cpython-37m-x86_64-linux-gnu.so\n  \u001b[31m   \u001b[0m checking for MPI compile and link ...\n  \u001b[31m   \u001b[0m gcc -pthread -Wno-unused-result -Wsign-compare -DNDEBUG -g -fwrapv -O3 -Wall -fPIC -I/usr/local/include/python3.7m -c _configtest.c -o _configtest.o\n  \u001b[31m   \u001b[0m _configtest.c:2:10: fatal error: mpi.h: No such file or directory\n  \u001b[31m   \u001b[0m  #include <mpi.h>\n  \u001b[31m   \u001b[0m           ^~~~~~~\n  \u001b[31m   \u001b[0m compilation terminated.\n  \u001b[31m   \u001b[0m failure.\n  \u001b[31m   \u001b[0m removing: _configtest.c _configtest.o\n  \u001b[31m   \u001b[0m error: Cannot compile MPI programs. Check your configuration!!!\n  \u001b[31m   \u001b[0m \u001b[31m[end of output]\u001b[0m\n  \n  \u001b[1;35mnote\u001b[0m: This error originates from a subprocess, and is likely not a problem with pip.\n\u001b[31m  ERROR: Failed building wheel for mpi4py\u001b[0m\u001b[31m\n\u001b[0m\u001b[?25hFailed to build mpi4py\n\u001b[31mERROR: Could not build wheels for mpi4py, which is required to install pyproject.toml-based projects\u001b[0m\u001b[31m\n\u001b[0m",
     "output_type": "stream"
    }
   ],
   "execution_count": 15
  },
  {
   "cell_type": "code",
   "metadata": {
    "deepnote_to_be_reexecuted": false,
    "source_hash": "b90060f9",
    "execution_start": 1648026055760,
    "execution_millis": 555,
    "cell_id": "00001-c8b9c8b7-0dba-4d94-83bf-8747137a46fa",
    "deepnote_cell_type": "code",
    "deepnote_cell_height": 279.1875
   },
   "source": "import numpy as np \nimport mpi4py as MPI\nimport time\nn_cuts = 3\nn_settings = n_cuts**8\nNO_MORE_TASKS = n_settings+1",
   "execution_count": 11,
   "outputs": [
    {
     "output_type": "error",
     "ename": "ModuleNotFoundError",
     "evalue": "No module named 'mpi4py'",
     "traceback": [
      "\u001b[0;31m---------------------------------------------------------------------------\u001b[0m",
      "\u001b[0;31mModuleNotFoundError\u001b[0m                       Traceback (most recent call last)",
      "\u001b[0;32m<ipython-input-11-4ff1ef187d9b>\u001b[0m in \u001b[0;36m<module>\u001b[0;34m\u001b[0m\n\u001b[1;32m      1\u001b[0m \u001b[0;32mimport\u001b[0m \u001b[0mnumpy\u001b[0m \u001b[0;32mas\u001b[0m \u001b[0mnp\u001b[0m\u001b[0;34m\u001b[0m\u001b[0;34m\u001b[0m\u001b[0m\n\u001b[0;32m----> 2\u001b[0;31m \u001b[0;32mimport\u001b[0m \u001b[0mmpi4py\u001b[0m \u001b[0;32mas\u001b[0m \u001b[0mMPI\u001b[0m\u001b[0;34m\u001b[0m\u001b[0;34m\u001b[0m\u001b[0m\n\u001b[0m\u001b[1;32m      3\u001b[0m \u001b[0;32mimport\u001b[0m \u001b[0mtime\u001b[0m\u001b[0;34m\u001b[0m\u001b[0;34m\u001b[0m\u001b[0m\n\u001b[1;32m      4\u001b[0m \u001b[0mn_cuts\u001b[0m \u001b[0;34m=\u001b[0m \u001b[0;36m3\u001b[0m\u001b[0;34m\u001b[0m\u001b[0;34m\u001b[0m\u001b[0m\n\u001b[1;32m      5\u001b[0m \u001b[0mn_settings\u001b[0m \u001b[0;34m=\u001b[0m \u001b[0mn_cuts\u001b[0m\u001b[0;34m**\u001b[0m\u001b[0;36m8\u001b[0m\u001b[0;34m\u001b[0m\u001b[0;34m\u001b[0m\u001b[0m\n",
      "\u001b[0;31mModuleNotFoundError\u001b[0m: No module named 'mpi4py'"
     ]
    }
   ]
  },
  {
   "cell_type": "code",
   "source": "!pip install p5py\n!pip install PEP517",
   "metadata": {
    "cell_id": "521964668308491da322738c1e7df10a",
    "tags": [],
    "deepnote_to_be_reexecuted": false,
    "source_hash": "fdaa82e2",
    "execution_start": 1648026496612,
    "execution_millis": 18970,
    "deepnote_cell_type": "code",
    "deepnote_cell_height": 553.40625
   },
   "outputs": [
    {
     "name": "stdout",
     "text": "Collecting p5py\n  Downloading p5py-1.0.0.tar.gz (2.9 kB)\n  Preparing metadata (setup.py) ... \u001b[?25ldone\n\u001b[?25hBuilding wheels for collected packages: p5py\n  Building wheel for p5py (setup.py) ... \u001b[?25ldone\n\u001b[?25h  Created wheel for p5py: filename=p5py-1.0.0-py2.py3-none-any.whl size=2333 sha256=7bcd7fff20a20cdd980875c83c3dc4fcd7961fe74411c4dbd117c4bdaf0144fb\n  Stored in directory: /root/.cache/pip/wheels/d6/0c/4b/ec17638b05724a48d3bd5e3e84703a5d4fa0fd33372f4f28a3\nSuccessfully built p5py\nInstalling collected packages: p5py\nSuccessfully installed p5py-1.0.0\n\u001b[33mWARNING: Running pip as the 'root' user can result in broken permissions and conflicting behaviour with the system package manager. It is recommended to use a virtual environment instead: https://pip.pypa.io/warnings/venv\u001b[0m\u001b[33m\n\u001b[0mCollecting PEP517\n  Downloading pep517-0.12.0-py2.py3-none-any.whl (19 kB)\nRequirement already satisfied: importlib_metadata in /shared-libs/python3.7/py-core/lib/python3.7/site-packages (from PEP517) (4.11.2)\nRequirement already satisfied: zipp in /shared-libs/python3.7/py-core/lib/python3.7/site-packages (from PEP517) (3.7.0)\nRequirement already satisfied: tomli>=1.1.0 in /shared-libs/python3.7/py/lib/python3.7/site-packages (from PEP517) (2.0.1)\nRequirement already satisfied: typing-extensions>=3.6.4 in /shared-libs/python3.7/py-core/lib/python3.7/site-packages (from importlib_metadata->PEP517) (4.1.1)\nInstalling collected packages: PEP517\nSuccessfully installed PEP517-0.12.0\n\u001b[33mWARNING: Running pip as the 'root' user can result in broken permissions and conflicting behaviour with the system package manager. It is recommended to use a virtual environment instead: https://pip.pypa.io/warnings/venv\u001b[0m\u001b[33m\n\u001b[0m",
     "output_type": "stream"
    }
   ],
   "execution_count": 19
  },
  {
   "cell_type": "code",
   "source": "!pip install mpi4pydd½",
   "metadata": {
    "cell_id": "09e8851785af486d94948551c7d901c0",
    "tags": [],
    "deepnote_to_be_reexecuted": false,
    "source_hash": "3e15a57f",
    "execution_start": 1648026528097,
    "execution_millis": 1906,
    "deepnote_cell_type": "code",
    "deepnote_cell_height": 701
   },
   "outputs": [
    {
     "name": "stdout",
     "text": "\u001b[31mERROR: Invalid requirement: 'mpi4pydd½'\u001b[0m\u001b[31m\r\n\u001b[0m",
     "output_type": "stream"
    }
   ],
   "execution_count": 20
  },
  {
   "cell_type": "code",
   "metadata": {
    "deepnote_to_be_reexecuted": false,
    "source_hash": "3136ecf6",
    "execution_start": 1648025624783,
    "execution_millis": 15,
    "cell_id": "00002-aa0b8aae-a653-4399-af02-82dc8db25d85",
    "deepnote_cell_type": "code",
    "deepnote_cell_height": 837
   },
   "source": "class Data():\n    \"\"\"Process and load data\n    \"\"\"\n    def __init__(self, filename: str = 'mc_ggH_16_13TeV_Zee_EGAM1_calocells_16249871.csv') -> None:\n        \"\"\"setting initial data specific parameters.\n\n        Args:\n            filename (str, optional): data file to load. Defaults to 'mc_ggH_16_13TeV_Zee_EGAM1_calocells_16249871.csv'.\n        \"\"\"\n        self.data = self.read_data(filename)\n        self.nevents = self.data.shape[0]\n        self.name = [\"averageInteractionsPerCrossing\", \"p_Rhad\",\"p_Rhad1\", \"p_TRTTrackOccupancy\", \"p_topoetcone40\", \n                     \"p_eTileGap3Cluster\", \"p_phiModCalo\", \"p_etaModCalo\"]\n        self.NvtxReco = self.data[:,1]\n        self.p_nTracks = self.data[:,2]\n        self.p_truthType = self.data[:,10]\n\n        self.signal = self.p_truthType == 2\n\n        self.data = self.data[:, [0,3,4,5,6,7,8,9]]\n\n        self.means_sig = np.array([np.average(self.data[self.signal, i]) for i in range(8)])\n        self.means_bckg = np.array([np.average(self.data[~self.signal, i]) for i in range(8)])\n        self.flip = np.sign(self.means_bckg - self.means_sig)\n            \n        for i in range(8): \n            self.data[:, i] *= self.flip[i]\n            self.means_sig[i]  = self.means_sig[i] * self.flip[i]\n            self.means_bckg[i] = self.means_bckg[i] * self.flip[i]\n\n\n    \n    def read_data(self, filename = 'mc_ggH_16_13TeV_Zee_EGAM1_calocells_16249871.csv') -> np.array:\n        \"\"\"Read data file using numpy (fastest).\n\n        Args:\n            filename (str, optional):File to load. Defaults to 'mc_ggH_16_13TeV_Zee_EGAM1_calocells_16249871.csv'.\n\n        Returns:\n            np.array: Returns data file except counter column and header row.\n        \"\"\"\n        return np.loadtxt(filename, delimiter = ',', skiprows = 1, usecols=range(1,12))\n",
   "execution_count": 2,
   "outputs": []
  },
  {
   "cell_type": "code",
   "metadata": {
    "deepnote_to_be_reexecuted": false,
    "source_hash": "b3a3f51c",
    "execution_start": 1648025627597,
    "execution_millis": 5,
    "cell_id": "00003-391a7de6-e339-4694-b09d-09ef60f2120f",
    "deepnote_cell_type": "code",
    "deepnote_cell_height": 837
   },
   "source": "def master(nworker: int, ds: Data):\n    \"\"\"Master function code. Master needs to collect work from workers.\n\n    Args:\n        nworker (int): The number of workers.\n        ds (Data): Dataset as a Data class object.\n    \"\"\"\n    ranges = np.zeros([n_cuts, 8])\n    settings = list()\n    accuracy = list()\n\n    for j in range(n_cuts):\n        ranges[j] = ds.means_sig + j * (ds.means_bckg - ds.means_sig) / n_cuts\n\n    for k in range(n_settings):\n        div = 1\n        _set = np.zeros(8)\n        for i in range(8):\n            idx = int((k/div) % n_cuts)\n            _set[i] = ranges[idx][i]\n            div *= n_cuts\n        settings.append(_set)\n    \n    tstart = time.time()\n\n    for k in range(n_settings):\n        accuracy.append(task_function(settings[k], ds))\n    \n    tend = time.time()\n\n    idx_best = np.argmax(accuracy)\n    best_accuracy_score = accuracy[idx_best]\n    \n    print(\"Best accuracy obtained:\", best_accuracy_score, \"\\n\")\n    print(\"Final cuts: \\n\")\n    \n    for i in range(8):\n        print(ds.name[i], \" : \", settings[idx_best][i]*ds.flip[i], \"\\n\")\n    \n    print()\n    print(\"Number of settings:\", n_settings, \"\\n\")\n    print(\"Elapsed time:\", (tend - tstart), \"\\n\")\n    print(\"task time [mus]:\", (tend - tstart)/ n_settings, \"\\n\")",
   "execution_count": 3,
   "outputs": []
  },
  {
   "cell_type": "code",
   "metadata": {
    "deepnote_to_be_reexecuted": false,
    "source_hash": "ced28c52",
    "execution_start": 1648025629234,
    "execution_millis": 4,
    "cell_id": "00004-2c497fba-196d-4c90-ae6d-95fcd24569c3",
    "deepnote_cell_type": "code",
    "deepnote_cell_height": 279
   },
   "source": "def task_function(setting: np.array, ds: Data) -> float:\n    \"\"\"_summary_\n\n    Args:\n        setting (numpy array): _description_\n        ds (Data): _description_\n\n    Returns:\n        float: _description_\n    \"\"\"\n    pred = np.min(ds.data < setting, axis=1)\n    return np.sum(pred == ds.signal) / ds.nevents",
   "execution_count": 4,
   "outputs": []
  },
  {
   "cell_type": "code",
   "metadata": {
    "deepnote_to_be_reexecuted": false,
    "source_hash": "9529ab95",
    "execution_start": 1648025630633,
    "execution_millis": 3,
    "cell_id": "00005-014a532c-8280-4a22-a77a-a9b9352611e9",
    "deepnote_cell_type": "code",
    "deepnote_cell_height": 225
   },
   "source": "def main() -> None:\n    MPI.init()\n    nrank = 1\n    rank = 0\n\n    ds = Data()\n    if rank == 0:\n        master(nrank-1, ds)\n    ",
   "execution_count": 5,
   "outputs": []
  },
  {
   "cell_type": "code",
   "metadata": {
    "deepnote_to_be_reexecuted": false,
    "source_hash": "286a4539",
    "execution_start": 1648025633054,
    "execution_millis": 18413,
    "cell_id": "00006-6c583cb2-1410-452f-9ea4-2686371f5390",
    "deepnote_cell_type": "code",
    "deepnote_cell_height": 623.765625
   },
   "source": "main()",
   "execution_count": 6,
   "outputs": [
    {
     "name": "stdout",
     "text": "Best accuracy obtained: 0.7365760732537989 \n\nFinal cuts: \n\naverageInteractionsPerCrossing  :  41.37656598765495 \n\np_Rhad  :  0.05993003622620082 \n\np_Rhad1  :  0.0377865347088777 \n\np_TRTTrackOccupancy  :  0.4684328988784968 \n\np_topoetcone40  :  4.9602659991986 \n\np_eTileGap3Cluster  :  0.3918736048431675 \n\np_phiModCalo  :  1.5157768399878342e-05 \n\np_etaModCalo  :  0.012525917018684045 \n\n\nNumber of settings: 6561 \n\nElapsed time: 12.748477697372437 \n\ntask time [mus]: 0.0019430693030593562 \n\n",
     "output_type": "stream"
    }
   ]
  },
  {
   "cell_type": "code",
   "metadata": {
    "cell_id": "00007-0b7d247a-81c2-4130-b160-98cedcc6abea",
    "deepnote_cell_type": "code",
    "deepnote_cell_height": 66
   },
   "source": "",
   "execution_count": null,
   "outputs": []
  },
  {
   "cell_type": "markdown",
   "source": "<a style='text-decoration:none;line-height:16px;display:flex;color:#5B5B62;padding:10px;justify-content:end;' href='https://deepnote.com?utm_source=created-in-deepnote-cell&projectId=5ca00859-511e-43ae-9c6d-62f1027902fc' target=\"_blank\">\n<img alt='Created in deepnote.com' style='display:inline;max-height:16px;margin:0px;margin-right:7.5px;' src='data:image/svg+xml;base64,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' > </img>\nCreated in <span style='font-weight:600;margin-left:4px;'>Deepnote</span></a>",
   "metadata": {
    "tags": [],
    "created_in_deepnote_cell": true,
    "deepnote_cell_type": "markdown"
   }
  }
 ],
 "nbformat": 4,
 "nbformat_minor": 4,
 "metadata": {
  "kernelspec": {
   "display_name": "Python 3",
   "language": "python",
   "name": "python3"
  },
  "language_info": {
   "codemirror_mode": {
    "name": "ipython",
    "version": 3
   },
   "file_extension": ".py",
   "mimetype": "text/x-python",
   "name": "python",
   "nbconvert_exporter": "python",
   "pygments_lexer": "ipython3",
   "version": "3.8.3"
  },
  "deepnote_notebook_id": "0d3fa462-7c6d-4283-9baa-d8a1cbe36a87",
  "deepnote": {},
  "deepnote_execution_queue": []
 }
}